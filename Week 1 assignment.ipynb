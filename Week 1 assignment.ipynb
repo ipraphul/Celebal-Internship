{
  "nbformat": 4,
  "nbformat_minor": 0,
  "metadata": {
    "colab": {
      "provenance": []
    },
    "kernelspec": {
      "name": "python3",
      "display_name": "Python 3"
    },
    "language_info": {
      "name": "python"
    }
  },
  "cells": [
    {
      "cell_type": "code",
      "execution_count": 1,
      "metadata": {
        "colab": {
          "base_uri": "https://localhost:8080/"
        },
        "id": "UDE-al5ME2PX",
        "outputId": "b2d7855b-838e-4e51-fe5a-855348991e35"
      },
      "outputs": [
        {
          "output_type": "stream",
          "name": "stdout",
          "text": [
            "Lower Triangular Pattern:\n",
            "* \n",
            "* * \n",
            "* * * \n",
            "* * * * \n",
            "* * * * * \n",
            "\n",
            "Upper Triangular Pattern:\n",
            "* * * * * \n",
            "* * * * \n",
            "* * * \n",
            "* * \n",
            "* \n",
            "\n",
            "Pyramid Pattern:\n",
            "    * \n",
            "   * * \n",
            "  * * * \n",
            " * * * * \n",
            "* * * * * \n"
          ]
        }
      ],
      "source": [
        "#Create lower triangular, upper triangular and pyramid containing the \"*\" character.\n",
        "\n",
        "# Lower Triangular Pattern\n",
        "def lower_triangular(n):\n",
        "    for i in range(1, n + 1):\n",
        "        print(\"* \" * i)\n",
        "\n",
        "# Upper Triangular Pattern\n",
        "def upper_triangular(n):\n",
        "    for i in range(n, 0, -1):\n",
        "        print(\"* \" * i)\n",
        "\n",
        "# Pyramid Pattern\n",
        "def pyramid(n):\n",
        "    for i in range(n):\n",
        "        print(\" \" * (n - i - 1) + \"* \" * (i + 1))\n",
        "\n",
        "# Number of rows for the patterns\n",
        "n = 5\n",
        "\n",
        "print(\"Lower Triangular Pattern:\")\n",
        "lower_triangular(n)\n",
        "print(\"\\nUpper Triangular Pattern:\")\n",
        "upper_triangular(n)\n",
        "print(\"\\nPyramid Pattern:\")\n",
        "pyramid(n)"
      ]
    }
  ]
}