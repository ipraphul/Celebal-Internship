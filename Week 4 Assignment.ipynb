{
 "cells": [
  {
   "cell_type": "code",
   "execution_count": 1,
   "id": "2259ee3a",
   "metadata": {},
   "outputs": [],
   "source": [
    "import pandas as pd\n",
    "from sklearn.datasets import load_iris\n",
    "from sklearn.preprocessing import StandardScaler, LabelEncoder\n",
    "from sklearn.model_selection import train_test_split"
   ]
  },
  {
   "cell_type": "code",
   "execution_count": 2,
   "id": "09862f6d",
   "metadata": {},
   "outputs": [],
   "source": [
    "# Load the Iris dataset\n",
    "iris = load_iris()\n",
    "iris_df = pd.DataFrame(data=iris.data, columns=iris.feature_names)\n",
    "iris_df['species'] = pd.Categorical.from_codes(iris.target, iris.target_names)\n"
   ]
  },
  {
   "cell_type": "code",
   "execution_count": 3,
   "id": "81717675",
   "metadata": {},
   "outputs": [
    {
     "name": "stdout",
     "output_type": "stream",
     "text": [
      "Original Data:\n",
      "   sepal length (cm)  sepal width (cm)  petal length (cm)  petal width (cm)  \\\n",
      "0                5.1               3.5                1.4               0.2   \n",
      "1                4.9               3.0                1.4               0.2   \n",
      "2                4.7               3.2                1.3               0.2   \n",
      "3                4.6               3.1                1.5               0.2   \n",
      "4                5.0               3.6                1.4               0.2   \n",
      "\n",
      "  species  \n",
      "0  setosa  \n",
      "1  setosa  \n",
      "2  setosa  \n",
      "3  setosa  \n",
      "4  setosa  \n"
     ]
    }
   ],
   "source": [
    "# Display the first few rows of the dataframe\n",
    "print(\"Original Data:\")\n",
    "print(iris_df.head())"
   ]
  },
  {
   "cell_type": "code",
   "execution_count": 4,
   "id": "87ba7e6b",
   "metadata": {},
   "outputs": [],
   "source": [
    "# Encode the categorical feature (species)\n",
    "label_encoder = LabelEncoder()\n",
    "iris_df['species'] = label_encoder.fit_transform(iris_df['species'])"
   ]
  },
  {
   "cell_type": "code",
   "execution_count": 5,
   "id": "6503d2b3",
   "metadata": {},
   "outputs": [
    {
     "name": "stdout",
     "output_type": "stream",
     "text": [
      "\n",
      "Data after encoding the species:\n",
      "   sepal length (cm)  sepal width (cm)  petal length (cm)  petal width (cm)  \\\n",
      "0                5.1               3.5                1.4               0.2   \n",
      "1                4.9               3.0                1.4               0.2   \n",
      "2                4.7               3.2                1.3               0.2   \n",
      "3                4.6               3.1                1.5               0.2   \n",
      "4                5.0               3.6                1.4               0.2   \n",
      "\n",
      "   species  \n",
      "0        0  \n",
      "1        0  \n",
      "2        0  \n",
      "3        0  \n",
      "4        0  \n"
     ]
    }
   ],
   "source": [
    "# Display the dataframe after encoding the species\n",
    "print(\"\\nData after encoding the species:\")\n",
    "print(iris_df.head())"
   ]
  },
  {
   "cell_type": "code",
   "execution_count": 6,
   "id": "f4a0b729",
   "metadata": {},
   "outputs": [],
   "source": [
    "# Standardize the numerical features\n",
    "scaler = StandardScaler()\n",
    "iris_df[iris.feature_names] = scaler.fit_transform(iris_df[iris.feature_names])"
   ]
  },
  {
   "cell_type": "code",
   "execution_count": 7,
   "id": "d3263ec7",
   "metadata": {},
   "outputs": [
    {
     "name": "stdout",
     "output_type": "stream",
     "text": [
      "\n",
      "Data after standardization:\n",
      "   sepal length (cm)  sepal width (cm)  petal length (cm)  petal width (cm)  \\\n",
      "0          -0.900681          1.019004          -1.340227         -1.315444   \n",
      "1          -1.143017         -0.131979          -1.340227         -1.315444   \n",
      "2          -1.385353          0.328414          -1.397064         -1.315444   \n",
      "3          -1.506521          0.098217          -1.283389         -1.315444   \n",
      "4          -1.021849          1.249201          -1.340227         -1.315444   \n",
      "\n",
      "   species  \n",
      "0        0  \n",
      "1        0  \n",
      "2        0  \n",
      "3        0  \n",
      "4        0  \n"
     ]
    }
   ],
   "source": [
    "# Display the dataframe after standardization\n",
    "print(\"\\nData after standardization:\")\n",
    "print(iris_df.head())"
   ]
  },
  {
   "cell_type": "code",
   "execution_count": 8,
   "id": "cb860437",
   "metadata": {},
   "outputs": [],
   "source": [
    "# Feature Engineering: Create additional features\n",
    "iris_df['sepal_ratio'] = iris_df['sepal length (cm)'] / iris_df['sepal width (cm)']\n",
    "iris_df['petal_ratio'] = iris_df['petal length (cm)'] / iris_df['petal width (cm)']"
   ]
  },
  {
   "cell_type": "code",
   "execution_count": 9,
   "id": "80d63792",
   "metadata": {},
   "outputs": [
    {
     "name": "stdout",
     "output_type": "stream",
     "text": [
      "\n",
      "Data after feature engineering:\n",
      "   sepal length (cm)  sepal width (cm)  petal length (cm)  petal width (cm)  \\\n",
      "0          -0.900681          1.019004          -1.340227         -1.315444   \n",
      "1          -1.143017         -0.131979          -1.340227         -1.315444   \n",
      "2          -1.385353          0.328414          -1.397064         -1.315444   \n",
      "3          -1.506521          0.098217          -1.283389         -1.315444   \n",
      "4          -1.021849          1.249201          -1.340227         -1.315444   \n",
      "\n",
      "   species  sepal_ratio  petal_ratio  \n",
      "0        0    -0.883884     1.018839  \n",
      "1        0     8.660565     1.018839  \n",
      "2        0    -4.218311     1.062047  \n",
      "3        0   -15.338649     0.975632  \n",
      "4        0    -0.818002     1.018839  \n"
     ]
    }
   ],
   "source": [
    "# Display the dataframe after feature engineering\n",
    "print(\"\\nData after feature engineering:\")\n",
    "print(iris_df.head())"
   ]
  },
  {
   "cell_type": "code",
   "execution_count": 10,
   "id": "5ab7368e",
   "metadata": {},
   "outputs": [],
   "source": [
    "# Split the data into training and testing sets\n",
    "X = iris_df.drop('species', axis=1)\n",
    "y = iris_df['species']\n",
    "X_train, X_test, y_train, y_test = train_test_split(X, y, test_size=0.2, random_state=42)\n"
   ]
  },
  {
   "cell_type": "code",
   "execution_count": 11,
   "id": "302585b2",
   "metadata": {},
   "outputs": [
    {
     "name": "stdout",
     "output_type": "stream",
     "text": [
      "\n",
      "Training features:\n",
      "    sepal length (cm)  sepal width (cm)  petal length (cm)  petal width (cm)  \\\n",
      "22          -1.506521          1.249201          -1.567576         -1.315444   \n",
      "15          -0.173674          3.090775          -1.283389         -1.052180   \n",
      "65           1.038005          0.098217           0.364896          0.264142   \n",
      "11          -1.264185          0.788808          -1.226552         -1.315444   \n",
      "42          -1.748856          0.328414          -1.397064         -1.315444   \n",
      "\n",
      "    sepal_ratio  petal_ratio  \n",
      "22    -1.205987     1.191671  \n",
      "15    -0.056191     1.219743  \n",
      "65    10.568453     1.381440  \n",
      "11    -1.602653     0.932424  \n",
      "42    -5.325157     1.062047  \n",
      "\n",
      "Training labels:\n",
      "22    0\n",
      "15    0\n",
      "65    1\n",
      "11    0\n",
      "42    0\n",
      "Name: species, dtype: int32\n"
     ]
    }
   ],
   "source": [
    "print(\"\\nTraining features:\")\n",
    "print(X_train.head())\n",
    "print(\"\\nTraining labels:\")\n",
    "print(y_train.head())"
   ]
  },
  {
   "cell_type": "code",
   "execution_count": 12,
   "id": "4259b2cd",
   "metadata": {},
   "outputs": [
    {
     "name": "stdout",
     "output_type": "stream",
     "text": [
      "\n",
      "Testing features:\n",
      "     sepal length (cm)  sepal width (cm)  petal length (cm)  petal width (cm)  \\\n",
      "73            0.310998         -0.592373           0.535409          0.000878   \n",
      "18           -0.173674          1.709595          -1.169714         -1.183812   \n",
      "118           2.249683         -1.052767           1.785832          1.448832   \n",
      "78            0.189830         -0.362176           0.421734          0.395774   \n",
      "76            1.159173         -0.592373           0.592246          0.264142   \n",
      "\n",
      "     sepal_ratio  petal_ratio  \n",
      "73     -0.525003   610.118906  \n",
      "18     -0.101588     0.988091  \n",
      "118    -2.136925     1.232601  \n",
      "78     -0.524136     1.065592  \n",
      "76     -1.956829     2.242151  \n",
      "\n",
      "Testing labels:\n",
      "73     1\n",
      "18     0\n",
      "118    2\n",
      "78     1\n",
      "76     1\n",
      "Name: species, dtype: int32\n"
     ]
    }
   ],
   "source": [
    "print(\"\\nTesting features:\")\n",
    "print(X_test.head())\n",
    "print(\"\\nTesting labels:\")\n",
    "print(y_test.head())"
   ]
  },
  {
   "cell_type": "code",
   "execution_count": null,
   "id": "69e4d9f4",
   "metadata": {},
   "outputs": [],
   "source": []
  }
 ],
 "metadata": {
  "kernelspec": {
   "display_name": "Python 3 (ipykernel)",
   "language": "python",
   "name": "python3"
  },
  "language_info": {
   "codemirror_mode": {
    "name": "ipython",
    "version": 3
   },
   "file_extension": ".py",
   "mimetype": "text/x-python",
   "name": "python",
   "nbconvert_exporter": "python",
   "pygments_lexer": "ipython3",
   "version": "3.11.5"
  }
 },
 "nbformat": 4,
 "nbformat_minor": 5
}
